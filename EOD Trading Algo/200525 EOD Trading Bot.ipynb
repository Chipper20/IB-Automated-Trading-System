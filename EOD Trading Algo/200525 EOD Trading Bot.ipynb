{
 "cells": [
  {
   "cell_type": "code",
   "execution_count": 2,
   "metadata": {},
   "outputs": [],
   "source": [
    "# code to connect to IB API and generate historical data\n",
    "from ibapi.client import EClient\n",
    "from ibapi.wrapper import EWrapper\n",
    "from ibapi.contract import Contract\n",
    "\n",
    "import threading\n",
    "import time\n",
    "\n",
    "class IBapi(EWrapper, EClient):\n",
    "    def __init__(self):\n",
    "        EClient.__init__(self, self)\n",
    "    def historicalData(self, reqId, bar):\n",
    "        #print(f'Time: {bar.date} Close: {bar.close}')\n",
    "        app.data.append([bar.date, bar.open, bar.high, bar.low, bar.close])\n",
    "\n",
    "def run_loop():\n",
    "    app.run()\n",
    "\n"
   ]
  },
  {
   "cell_type": "code",
   "execution_count": 3,
   "metadata": {},
   "outputs": [],
   "source": [
    "# create contract object\n",
    "def get_contract(inst, type, exchange, contractMonth = \"202012\"):\n",
    "    contract = Contract()\n",
    "    contract.symbol = inst\n",
    "    contract.secType = type\n",
    "    contract.exchange = exchange\n",
    "    contract.currency = \"USD\"\n",
    "    contract.lastTradeDateOrContractMonth = contractMonth    \n",
    "    return contract\n",
    "\n",
    "# Future example : NQ, FUT, GLOBEX, 202009\n",
    "# Stock example : BA, STK, SMART, \n",
    "contract = get_contract(\"AAPL\", \"STK\", \"SMART\")  \n",
    "\n",
    "# parameters for data\n",
    "barsize = \"1 day\"  # Other formats: 1 hour, 15 mins\n",
    "length = '3 M'     # Other formats: 1 D, "
   ]
  },
  {
   "cell_type": "code",
   "execution_count": 4,
   "metadata": {},
   "outputs": [
    {
     "name": "stderr",
     "output_type": "stream",
     "text": [
      "ERROR -1 2104 Market data farm connection is OK:usfuture.nj\n",
      "ERROR -1 2104 Market data farm connection is OK:usfarm.nj\n",
      "ERROR -1 2104 Market data farm connection is OK:usfuture\n",
      "ERROR -1 2104 Market data farm connection is OK:cashfarm\n",
      "ERROR -1 2104 Market data farm connection is OK:usfarm\n",
      "ERROR -1 2106 HMDS data farm connection is OK:euhmds\n",
      "ERROR -1 2106 HMDS data farm connection is OK:ushmds.nj\n",
      "ERROR -1 2106 HMDS data farm connection is OK:fundfarm\n",
      "ERROR -1 2106 HMDS data farm connection is OK:ushmds\n"
     ]
    }
   ],
   "source": [
    "# Start the app and download data\n",
    "app = IBapi()\n",
    "app.connect('127.0.0.1', 7497, 123)\n",
    "\n",
    "#Start the socket in a thread\n",
    "api_thread = threading.Thread(target=run_loop, daemon=True)\n",
    "api_thread.start()\n",
    "\n",
    "time.sleep(1) #Sleep interval to allow time for connection to server\n",
    "\n",
    "app.data = [] # create an empty list to store the bars\n",
    "#Request historical candles\n",
    "#app.reqHistoricalData(1, contract, '', '2 D', '1 hour', 'BID', 0, 2, False, [])\n",
    "app.reqHistoricalData(1, contract, '', length, barsize, 'TRADES', 1, 1, False, [])\n",
    "\n",
    "\n",
    "time.sleep(5) #sleep to allow enough time for data to be returned\n",
    "app.disconnect()"
   ]
  },
  {
   "cell_type": "code",
   "execution_count": 7,
   "metadata": {},
   "outputs": [
    {
     "data": {
      "text/plain": [
       "[['20200224', 297.07, 304.18, 289.23, 298.18],\n",
       " ['20200225', 301.0, 302.53, 286.13, 288.08],\n",
       " ['20200226', 286.66, 297.88, 286.5, 292.65],\n",
       " ['20200227', 281.1, 286.0, 272.96, 273.52],\n",
       " ['20200228', 257.27, 278.41, 256.37, 273.36],\n",
       " ['20200302', 282.28, 301.44, 277.72, 298.81],\n",
       " ['20200303', 303.67, 304.0, 285.8, 289.32],\n",
       " ['20200304', 296.44, 303.4, 293.13, 302.74],\n",
       " ['20200305', 295.52, 299.55, 291.41, 292.92],\n",
       " ['20200306', 281.9, 290.82, 281.23, 289.03],\n",
       " ['20200309', 263.72, 278.09, 263.0, 266.17],\n",
       " ['20200310', 277.14, 286.44, 269.37, 285.34],\n",
       " ['20200311', 277.39, 281.22, 271.86, 275.43],\n",
       " ['20200312', 256.04, 270.0, 248.0, 248.23],\n",
       " ['20200313', 264.89, 279.92, 252.95, 277.97],\n",
       " ['20200316', 241.87, 259.08, 240.0, 242.21],\n",
       " ['20200317', 247.49, 257.61, 238.4, 252.86],\n",
       " ['20200318', 239.75, 250.0, 237.12, 246.67],\n",
       " ['20200319', 247.42, 252.84, 242.61, 244.78],\n",
       " ['20200320', 247.18, 251.83, 228.0, 229.24],\n",
       " ['20200323', 228.08, 228.5, 212.61, 224.37],\n",
       " ['20200324', 236.83, 247.69, 234.3, 246.88],\n",
       " ['20200325', 250.89, 258.25, 244.3, 245.52],\n",
       " ['20200326', 246.53, 258.68, 246.36, 258.44],\n",
       " ['20200327', 252.75, 255.87, 247.05, 247.74],\n",
       " ['20200330', 250.74, 255.52, 249.4, 254.81],\n",
       " ['20200331', 255.6, 262.49, 252.0, 254.29],\n",
       " ['20200401', 246.57, 248.72, 239.13, 240.91],\n",
       " ['20200402', 240.24, 245.15, 236.9, 244.93],\n",
       " ['20200403', 242.9, 245.7, 238.97, 241.41],\n",
       " ['20200406', 250.87, 263.11, 249.38, 262.47],\n",
       " ['20200407', 270.8, 271.7, 259.0, 259.43],\n",
       " ['20200408', 262.74, 267.37, 261.23, 266.07],\n",
       " ['20200409', 269.2, 270.07, 264.7, 267.99],\n",
       " ['20200413', 268.31, 273.7, 265.83, 273.25],\n",
       " ['20200414', 280.01, 288.25, 278.05, 287.05],\n",
       " ['20200415', 282.4, 286.33, 280.63, 284.43],\n",
       " ['20200416', 287.3, 288.2, 282.35, 286.69],\n",
       " ['20200417', 284.76, 286.95, 276.86, 282.8],\n",
       " ['20200420', 277.76, 281.68, 276.85, 276.93],\n",
       " ['20200421', 276.28, 277.25, 265.43, 268.37],\n",
       " ['20200422', 273.55, 277.9, 272.2, 276.1],\n",
       " ['20200423', 275.92, 281.75, 274.87, 275.03],\n",
       " ['20200424', 277.25, 283.01, 277.0, 282.97],\n",
       " ['20200427', 281.83, 284.54, 279.95, 283.17],\n",
       " ['20200428', 284.99, 285.83, 278.2, 278.58],\n",
       " ['20200429', 284.73, 289.67, 283.89, 287.73],\n",
       " ['20200430', 289.96, 294.53, 288.35, 293.8],\n",
       " ['20200501', 286.29, 299.0, 285.85, 289.07],\n",
       " ['20200504', 289.17, 293.69, 286.31, 293.16],\n",
       " ['20200505', 295.05, 301.0, 294.46, 297.56],\n",
       " ['20200506', 300.46, 303.24, 298.87, 300.63],\n",
       " ['20200507', 303.2, 305.17, 301.97, 303.74],\n",
       " ['20200508', 305.64, 310.35, 304.29, 310.13],\n",
       " ['20200511', 308.12, 317.05, 307.24, 315.01],\n",
       " ['20200512', 317.92, 319.69, 310.91, 311.41],\n",
       " ['20200513', 312.1, 315.95, 303.21, 307.65],\n",
       " ['20200514', 304.66, 309.79, 301.53, 309.54],\n",
       " ['20200515', 300.35, 307.9, 300.21, 307.71],\n",
       " ['20200518', 313.16, 316.5, 310.32, 314.96],\n",
       " ['20200519', 315.03, 318.52, 313.01, 313.14],\n",
       " ['20200520', 316.68, 319.52, 316.2, 319.23],\n",
       " ['20200521', 318.66, 320.89, 315.87, 316.85],\n",
       " ['20200522', 315.75, 319.23, 315.35, 318.89]]"
      ]
     },
     "execution_count": 7,
     "metadata": {},
     "output_type": "execute_result"
    }
   ],
   "source": [
    "# Data exists in a list \n",
    "app.data"
   ]
  },
  {
   "cell_type": "code",
   "execution_count": 18,
   "metadata": {},
   "outputs": [],
   "source": [
    "# put data into pandas DataFrame and perform operations to see if a rule is working\n",
    "import pandas as pd\n",
    "\n",
    "df = pd.DataFrame(app.data, columns=['Full Date', 'Open', 'High', 'Low', 'Close'])\n",
    "df['Full Date'] = pd.to_datetime(df['Full Date'], infer_datetime_format=True) # convert to datetime type\n",
    "#df['Date'] = pd.to_datetime(df['Full Date'].dt.strftime('%m/%d/%Y')) # used with intraday data\n",
    "#df.to_excel(instrument + '.xlsx') # add this line if you wish to save the data to excel\n",
    "df.set_index('Full Date', inplace=True)"
   ]
  },
  {
   "cell_type": "code",
   "execution_count": 19,
   "metadata": {},
   "outputs": [
    {
     "data": {
      "text/html": [
       "<div>\n",
       "<style scoped>\n",
       "    .dataframe tbody tr th:only-of-type {\n",
       "        vertical-align: middle;\n",
       "    }\n",
       "\n",
       "    .dataframe tbody tr th {\n",
       "        vertical-align: top;\n",
       "    }\n",
       "\n",
       "    .dataframe thead th {\n",
       "        text-align: right;\n",
       "    }\n",
       "</style>\n",
       "<table border=\"1\" class=\"dataframe\">\n",
       "  <thead>\n",
       "    <tr style=\"text-align: right;\">\n",
       "      <th></th>\n",
       "      <th>Open</th>\n",
       "      <th>High</th>\n",
       "      <th>Low</th>\n",
       "      <th>Close</th>\n",
       "    </tr>\n",
       "    <tr>\n",
       "      <th>Full Date</th>\n",
       "      <th></th>\n",
       "      <th></th>\n",
       "      <th></th>\n",
       "      <th></th>\n",
       "    </tr>\n",
       "  </thead>\n",
       "  <tbody>\n",
       "    <tr>\n",
       "      <th>2020-02-24</th>\n",
       "      <td>297.07</td>\n",
       "      <td>304.18</td>\n",
       "      <td>289.23</td>\n",
       "      <td>298.18</td>\n",
       "    </tr>\n",
       "    <tr>\n",
       "      <th>2020-02-25</th>\n",
       "      <td>301.00</td>\n",
       "      <td>302.53</td>\n",
       "      <td>286.13</td>\n",
       "      <td>288.08</td>\n",
       "    </tr>\n",
       "    <tr>\n",
       "      <th>2020-02-26</th>\n",
       "      <td>286.66</td>\n",
       "      <td>297.88</td>\n",
       "      <td>286.50</td>\n",
       "      <td>292.65</td>\n",
       "    </tr>\n",
       "    <tr>\n",
       "      <th>2020-02-27</th>\n",
       "      <td>281.10</td>\n",
       "      <td>286.00</td>\n",
       "      <td>272.96</td>\n",
       "      <td>273.52</td>\n",
       "    </tr>\n",
       "    <tr>\n",
       "      <th>2020-02-28</th>\n",
       "      <td>257.27</td>\n",
       "      <td>278.41</td>\n",
       "      <td>256.37</td>\n",
       "      <td>273.36</td>\n",
       "    </tr>\n",
       "  </tbody>\n",
       "</table>\n",
       "</div>"
      ],
      "text/plain": [
       "              Open    High     Low   Close\n",
       "Full Date                                 \n",
       "2020-02-24  297.07  304.18  289.23  298.18\n",
       "2020-02-25  301.00  302.53  286.13  288.08\n",
       "2020-02-26  286.66  297.88  286.50  292.65\n",
       "2020-02-27  281.10  286.00  272.96  273.52\n",
       "2020-02-28  257.27  278.41  256.37  273.36"
      ]
     },
     "execution_count": 19,
     "metadata": {},
     "output_type": "execute_result"
    }
   ],
   "source": [
    "df.head()"
   ]
  },
  {
   "cell_type": "code",
   "execution_count": 21,
   "metadata": {},
   "outputs": [
    {
     "data": {
      "text/plain": [
       "DatetimeIndex(['2020-02-24', '2020-02-25', '2020-02-26', '2020-02-27',\n",
       "               '2020-02-28', '2020-03-02', '2020-03-03', '2020-03-04',\n",
       "               '2020-03-05', '2020-03-06', '2020-03-09', '2020-03-10',\n",
       "               '2020-03-11', '2020-03-12', '2020-03-13', '2020-03-16',\n",
       "               '2020-03-17', '2020-03-18', '2020-03-19', '2020-03-20',\n",
       "               '2020-03-23', '2020-03-24', '2020-03-25', '2020-03-26',\n",
       "               '2020-03-27', '2020-03-30', '2020-03-31', '2020-04-01',\n",
       "               '2020-04-02', '2020-04-03', '2020-04-06', '2020-04-07',\n",
       "               '2020-04-08', '2020-04-09', '2020-04-13', '2020-04-14',\n",
       "               '2020-04-15', '2020-04-16', '2020-04-17', '2020-04-20',\n",
       "               '2020-04-21', '2020-04-22', '2020-04-23', '2020-04-24',\n",
       "               '2020-04-27', '2020-04-28', '2020-04-29', '2020-04-30',\n",
       "               '2020-05-01', '2020-05-04', '2020-05-05', '2020-05-06',\n",
       "               '2020-05-07', '2020-05-08', '2020-05-11', '2020-05-12',\n",
       "               '2020-05-13', '2020-05-14', '2020-05-15', '2020-05-18',\n",
       "               '2020-05-19', '2020-05-20', '2020-05-21', '2020-05-22'],\n",
       "              dtype='datetime64[ns]', name='Full Date', freq=None)"
      ]
     },
     "execution_count": 21,
     "metadata": {},
     "output_type": "execute_result"
    }
   ],
   "source": [
    "df.resample(rule)"
   ]
  },
  {
   "cell_type": "code",
   "execution_count": null,
   "metadata": {},
   "outputs": [],
   "source": []
  }
 ],
 "metadata": {
  "kernelspec": {
   "display_name": "Python 3",
   "language": "python",
   "name": "python3"
  },
  "language_info": {
   "codemirror_mode": {
    "name": "ipython",
    "version": 3
   },
   "file_extension": ".py",
   "mimetype": "text/x-python",
   "name": "python",
   "nbconvert_exporter": "python",
   "pygments_lexer": "ipython3",
   "version": "3.7.6"
  }
 },
 "nbformat": 4,
 "nbformat_minor": 4
}
